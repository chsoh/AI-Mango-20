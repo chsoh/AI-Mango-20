{
 "cells": [
  {
   "cell_type": "code",
   "execution_count": null,
   "metadata": {},
   "outputs": [],
   "source": [
    "from sklearn.ensemble import AdaBoostClassifier\n",
    "model = AdaBoostClassifier(random_state=100)\n",
    "model.fit(y_train)\n",
    "y_pred_ada = model.predict(X_test)\n",
    "y_predprob_ada = model.predict_proba(X_test)\n",
    "y_predprob_po_ada = y_predprob_ada[:,1]\n",
    "print(\"Misclassified sample: %d\" % (y_test != y_pred_ada).sum())\n",
    "print('Accuracy: %.4f' % accuracy_score(y_test, y_pred_ada))\n",
    "print('Precision: %f' % precision_score(y_test,y_pred_ada))\n",
    "print('Recall: %f' % recall_score(y_test,y_pred_ada))\n",
    "print('f1-score: %f' % f1_score(y_test, y_pred_ada))"
   ]
  }
 ],
 "metadata": {
  "environment": {
   "name": "tf2-gpu.2-1.m46",
   "type": "gcloud",
   "uri": "gcr.io/deeplearning-platform-release/tf2-gpu.2-1:m46"
  },
  "kernelspec": {
   "display_name": "Python 3",
   "language": "python",
   "name": "python3"
  },
  "language_info": {
   "codemirror_mode": {
    "name": "ipython",
    "version": 3
   },
   "file_extension": ".py",
   "mimetype": "text/x-python",
   "name": "python",
   "nbconvert_exporter": "python",
   "pygments_lexer": "ipython3",
   "version": "3.7.6"
  }
 },
 "nbformat": 4,
 "nbformat_minor": 4
}
